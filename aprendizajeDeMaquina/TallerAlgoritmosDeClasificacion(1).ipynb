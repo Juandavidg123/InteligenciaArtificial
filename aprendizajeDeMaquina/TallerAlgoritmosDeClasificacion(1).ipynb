{
  "cells": [
    {
      "cell_type": "markdown",
      "source": [
        "#**Taller Algoritmos de Clasificación**\n",
        "###Integrantes:\n",
        "- Daniel Esteban Méndez Díaz\n",
        "- Juan David Godoy Valencia\n",
        "- Johan Santiago Ramos Duarte\n",
        "----"
      ],
      "metadata": {
        "id": "4Wpxxtind1ES"
      }
    },
    {
      "cell_type": "markdown",
      "metadata": {
        "id": "oagLlrPjW5RT"
      },
      "source": [
        "# Sobrevivientes del Titanic\n",
        "\n",
        "El 15 de abril de 1912, el Titanic naufragó después de chocar con un iceberg. Debido a la insuficiencia de botes salvavidas, 1502 de los 2224 pasajeros y tripulantes murieron.\n",
        "\n",
        "Aunque la suerte jugó un papel en la supervivencia de los viajeros, algunos grupos pudieron tener mayores posibilidades de sobrevivir que otros.\n",
        "\n",
        "Se desea construir un modelo de ML que permita dar respuesta a la pregunta: ¿Qué tipo de persona tuvo más posibilidades de sobrevivir?. Para esto, se cuenta con información como nombre, edad, sexo, clase del tiquete, ciudad de embarque, entre otros."
      ]
    },
    {
      "cell_type": "markdown",
      "metadata": {
        "id": "xr3tfhuhcpHD"
      },
      "source": [
        "## Importar librerías\n"
      ]
    },
    {
      "cell_type": "code",
      "execution_count": null,
      "metadata": {
        "id": "GKEmMv-5WCU0"
      },
      "outputs": [],
      "source": [
        "import numpy as np\n",
        "import pandas as pd\n",
        "import requests\n",
        "from matplotlib import pyplot as plt\n",
        "\n",
        "from sklearn.model_selection import train_test_split\n",
        "from sklearn.metrics import classification_report, confusion_matrix\n",
        "from sklearn.model_selection import GridSearchCV, RandomizedSearchCV\n",
        "\n",
        "from sklearn.linear_model import LogisticRegression\n",
        "from sklearn.tree import DecisionTreeClassifier\n",
        "from sklearn.ensemble import RandomForestClassifier\n",
        "from sklearn.neural_network import MLPClassifier\n",
        "from sklearn.svm import SVC\n",
        "from sklearn.neighbors import KNeighborsClassifier"
      ]
    },
    {
      "cell_type": "markdown",
      "metadata": {
        "id": "uMYtFiyHcvCd"
      },
      "source": [
        "## Cargar el conjunto de datos\n",
        "\n",
        "SibSp: Número de hermanos/esposo(a) abordo.\n",
        "\n",
        "Parch: Número de padres/hijos abordo\n",
        "\n",
        "Embarked: Ciudad de embarque.\n"
      ]
    },
    {
      "cell_type": "code",
      "execution_count": null,
      "metadata": {
        "id": "-_aqLmkKc7GI",
        "outputId": "5e226e7d-2021-4b0a-a8e0-d773d48be9b1"
      },
      "outputs": [
        {
          "data": {
            "text/html": [
              "<div>\n",
              "<style scoped>\n",
              "    .dataframe tbody tr th:only-of-type {\n",
              "        vertical-align: middle;\n",
              "    }\n",
              "\n",
              "    .dataframe tbody tr th {\n",
              "        vertical-align: top;\n",
              "    }\n",
              "\n",
              "    .dataframe thead th {\n",
              "        text-align: right;\n",
              "    }\n",
              "</style>\n",
              "<table border=\"1\" class=\"dataframe\">\n",
              "  <thead>\n",
              "    <tr style=\"text-align: right;\">\n",
              "      <th></th>\n",
              "      <th>PassengerId</th>\n",
              "      <th>Survived</th>\n",
              "      <th>Pclass</th>\n",
              "      <th>Name</th>\n",
              "      <th>Sex</th>\n",
              "      <th>Age</th>\n",
              "      <th>SibSp</th>\n",
              "      <th>Parch</th>\n",
              "      <th>Ticket</th>\n",
              "      <th>Fare</th>\n",
              "      <th>Cabin</th>\n",
              "      <th>Embarked</th>\n",
              "    </tr>\n",
              "  </thead>\n",
              "  <tbody>\n",
              "    <tr>\n",
              "      <th>0</th>\n",
              "      <td>1</td>\n",
              "      <td>0</td>\n",
              "      <td>3</td>\n",
              "      <td>Braund, Mr. Owen Harris</td>\n",
              "      <td>male</td>\n",
              "      <td>22.0</td>\n",
              "      <td>1</td>\n",
              "      <td>0</td>\n",
              "      <td>A/5 21171</td>\n",
              "      <td>7.25</td>\n",
              "      <td>NaN</td>\n",
              "      <td>S</td>\n",
              "    </tr>\n",
              "    <tr>\n",
              "      <th>1</th>\n",
              "      <td>2</td>\n",
              "      <td>1</td>\n",
              "      <td>1</td>\n",
              "      <td>Cumings, Mrs. John Bradley (Florence Briggs Th...</td>\n",
              "      <td>female</td>\n",
              "      <td>38.0</td>\n",
              "      <td>1</td>\n",
              "      <td>0</td>\n",
              "      <td>PC 17599</td>\n",
              "      <td>712.833</td>\n",
              "      <td>C85</td>\n",
              "      <td>C</td>\n",
              "    </tr>\n",
              "    <tr>\n",
              "      <th>2</th>\n",
              "      <td>3</td>\n",
              "      <td>1</td>\n",
              "      <td>3</td>\n",
              "      <td>Heikkinen, Miss. Laina</td>\n",
              "      <td>female</td>\n",
              "      <td>26.0</td>\n",
              "      <td>0</td>\n",
              "      <td>0</td>\n",
              "      <td>STON/O2. 3101282</td>\n",
              "      <td>7.925</td>\n",
              "      <td>NaN</td>\n",
              "      <td>S</td>\n",
              "    </tr>\n",
              "    <tr>\n",
              "      <th>3</th>\n",
              "      <td>4</td>\n",
              "      <td>1</td>\n",
              "      <td>1</td>\n",
              "      <td>Futrelle, Mrs. Jacques Heath (Lily May Peel)</td>\n",
              "      <td>female</td>\n",
              "      <td>35.0</td>\n",
              "      <td>1</td>\n",
              "      <td>0</td>\n",
              "      <td>113803</td>\n",
              "      <td>53.1</td>\n",
              "      <td>C123</td>\n",
              "      <td>S</td>\n",
              "    </tr>\n",
              "    <tr>\n",
              "      <th>4</th>\n",
              "      <td>5</td>\n",
              "      <td>0</td>\n",
              "      <td>3</td>\n",
              "      <td>Allen, Mr. William Henry</td>\n",
              "      <td>male</td>\n",
              "      <td>35.0</td>\n",
              "      <td>0</td>\n",
              "      <td>0</td>\n",
              "      <td>373450</td>\n",
              "      <td>8.05</td>\n",
              "      <td>NaN</td>\n",
              "      <td>S</td>\n",
              "    </tr>\n",
              "    <tr>\n",
              "      <th>...</th>\n",
              "      <td>...</td>\n",
              "      <td>...</td>\n",
              "      <td>...</td>\n",
              "      <td>...</td>\n",
              "      <td>...</td>\n",
              "      <td>...</td>\n",
              "      <td>...</td>\n",
              "      <td>...</td>\n",
              "      <td>...</td>\n",
              "      <td>...</td>\n",
              "      <td>...</td>\n",
              "      <td>...</td>\n",
              "    </tr>\n",
              "    <tr>\n",
              "      <th>886</th>\n",
              "      <td>887</td>\n",
              "      <td>0</td>\n",
              "      <td>2</td>\n",
              "      <td>Montvila, Rev. Juozas</td>\n",
              "      <td>male</td>\n",
              "      <td>27.0</td>\n",
              "      <td>0</td>\n",
              "      <td>0</td>\n",
              "      <td>211536</td>\n",
              "      <td>13</td>\n",
              "      <td>NaN</td>\n",
              "      <td>S</td>\n",
              "    </tr>\n",
              "    <tr>\n",
              "      <th>887</th>\n",
              "      <td>888</td>\n",
              "      <td>1</td>\n",
              "      <td>1</td>\n",
              "      <td>Graham, Miss. Margaret Edith</td>\n",
              "      <td>female</td>\n",
              "      <td>19.0</td>\n",
              "      <td>0</td>\n",
              "      <td>0</td>\n",
              "      <td>112053</td>\n",
              "      <td>30</td>\n",
              "      <td>B42</td>\n",
              "      <td>S</td>\n",
              "    </tr>\n",
              "    <tr>\n",
              "      <th>888</th>\n",
              "      <td>889</td>\n",
              "      <td>0</td>\n",
              "      <td>3</td>\n",
              "      <td>Johnston, Miss. Catherine Helen \"Carrie\"</td>\n",
              "      <td>female</td>\n",
              "      <td>NaN</td>\n",
              "      <td>1</td>\n",
              "      <td>2</td>\n",
              "      <td>W./C. 6607</td>\n",
              "      <td>23.45</td>\n",
              "      <td>NaN</td>\n",
              "      <td>S</td>\n",
              "    </tr>\n",
              "    <tr>\n",
              "      <th>889</th>\n",
              "      <td>890</td>\n",
              "      <td>1</td>\n",
              "      <td>1</td>\n",
              "      <td>Behr, Mr. Karl Howell</td>\n",
              "      <td>male</td>\n",
              "      <td>26.0</td>\n",
              "      <td>0</td>\n",
              "      <td>0</td>\n",
              "      <td>111369</td>\n",
              "      <td>30</td>\n",
              "      <td>C148</td>\n",
              "      <td>C</td>\n",
              "    </tr>\n",
              "    <tr>\n",
              "      <th>890</th>\n",
              "      <td>891</td>\n",
              "      <td>0</td>\n",
              "      <td>3</td>\n",
              "      <td>Dooley, Mr. Patrick</td>\n",
              "      <td>male</td>\n",
              "      <td>32.0</td>\n",
              "      <td>0</td>\n",
              "      <td>0</td>\n",
              "      <td>370376</td>\n",
              "      <td>7.75</td>\n",
              "      <td>NaN</td>\n",
              "      <td>Q</td>\n",
              "    </tr>\n",
              "  </tbody>\n",
              "</table>\n",
              "<p>891 rows × 12 columns</p>\n",
              "</div>"
            ],
            "text/plain": [
              "     PassengerId  Survived  Pclass  \\\n",
              "0              1         0       3   \n",
              "1              2         1       1   \n",
              "2              3         1       3   \n",
              "3              4         1       1   \n",
              "4              5         0       3   \n",
              "..           ...       ...     ...   \n",
              "886          887         0       2   \n",
              "887          888         1       1   \n",
              "888          889         0       3   \n",
              "889          890         1       1   \n",
              "890          891         0       3   \n",
              "\n",
              "                                                  Name     Sex   Age  SibSp  \\\n",
              "0                              Braund, Mr. Owen Harris    male  22.0      1   \n",
              "1    Cumings, Mrs. John Bradley (Florence Briggs Th...  female  38.0      1   \n",
              "2                               Heikkinen, Miss. Laina  female  26.0      0   \n",
              "3         Futrelle, Mrs. Jacques Heath (Lily May Peel)  female  35.0      1   \n",
              "4                             Allen, Mr. William Henry    male  35.0      0   \n",
              "..                                                 ...     ...   ...    ...   \n",
              "886                              Montvila, Rev. Juozas    male  27.0      0   \n",
              "887                       Graham, Miss. Margaret Edith  female  19.0      0   \n",
              "888           Johnston, Miss. Catherine Helen \"Carrie\"  female   NaN      1   \n",
              "889                              Behr, Mr. Karl Howell    male  26.0      0   \n",
              "890                                Dooley, Mr. Patrick    male  32.0      0   \n",
              "\n",
              "     Parch            Ticket     Fare Cabin Embarked  \n",
              "0        0         A/5 21171     7.25   NaN        S  \n",
              "1        0          PC 17599  712.833   C85        C  \n",
              "2        0  STON/O2. 3101282    7.925   NaN        S  \n",
              "3        0            113803     53.1  C123        S  \n",
              "4        0            373450     8.05   NaN        S  \n",
              "..     ...               ...      ...   ...      ...  \n",
              "886      0            211536       13   NaN        S  \n",
              "887      0            112053       30   B42        S  \n",
              "888      2        W./C. 6607    23.45   NaN        S  \n",
              "889      0            111369       30  C148        C  \n",
              "890      0            370376     7.75   NaN        Q  \n",
              "\n",
              "[891 rows x 12 columns]"
            ]
          },
          "execution_count": 2,
          "metadata": {},
          "output_type": "execute_result"
        }
      ],
      "source": [
        "url = \"https://www.dropbox.com/s/g19rqwd53co5dh1/titanic.csv?dl=1\"\n",
        "response = requests.get(url)\n",
        "filename = 'titanic.csv'\n",
        "with open(filename, 'wb') as file:\n",
        "    file.write(response.content)\n",
        "data = pd.read_csv(filename, sep=';')\n",
        "data"
      ]
    },
    {
      "cell_type": "markdown",
      "metadata": {
        "id": "DK0JJ-UgfjAw"
      },
      "source": [
        "## Descripción del conjunto de datos\n"
      ]
    },
    {
      "cell_type": "code",
      "execution_count": null,
      "metadata": {
        "id": "3Va8YPM6fnrH",
        "outputId": "e52b4c32-b41e-4b33-8d41-ecc83feabdea"
      },
      "outputs": [
        {
          "name": "stdout",
          "output_type": "stream",
          "text": [
            "Index(['PassengerId', 'Survived', 'Pclass', 'Name', 'Sex', 'Age', 'SibSp',\n",
            "       'Parch', 'Ticket', 'Fare', 'Cabin', 'Embarked'],\n",
            "      dtype='object')\n"
          ]
        },
        {
          "data": {
            "text/html": [
              "<div>\n",
              "<style scoped>\n",
              "    .dataframe tbody tr th:only-of-type {\n",
              "        vertical-align: middle;\n",
              "    }\n",
              "\n",
              "    .dataframe tbody tr th {\n",
              "        vertical-align: top;\n",
              "    }\n",
              "\n",
              "    .dataframe thead th {\n",
              "        text-align: right;\n",
              "    }\n",
              "</style>\n",
              "<table border=\"1\" class=\"dataframe\">\n",
              "  <thead>\n",
              "    <tr style=\"text-align: right;\">\n",
              "      <th></th>\n",
              "      <th>PassengerId</th>\n",
              "      <th>Survived</th>\n",
              "      <th>Pclass</th>\n",
              "      <th>Age</th>\n",
              "      <th>SibSp</th>\n",
              "      <th>Parch</th>\n",
              "    </tr>\n",
              "  </thead>\n",
              "  <tbody>\n",
              "    <tr>\n",
              "      <th>count</th>\n",
              "      <td>891.000000</td>\n",
              "      <td>891.000000</td>\n",
              "      <td>891.000000</td>\n",
              "      <td>714.000000</td>\n",
              "      <td>891.000000</td>\n",
              "      <td>891.000000</td>\n",
              "    </tr>\n",
              "    <tr>\n",
              "      <th>mean</th>\n",
              "      <td>446.000000</td>\n",
              "      <td>0.383838</td>\n",
              "      <td>2.308642</td>\n",
              "      <td>29.699118</td>\n",
              "      <td>0.523008</td>\n",
              "      <td>0.381594</td>\n",
              "    </tr>\n",
              "    <tr>\n",
              "      <th>std</th>\n",
              "      <td>257.353842</td>\n",
              "      <td>0.486592</td>\n",
              "      <td>0.836071</td>\n",
              "      <td>14.526497</td>\n",
              "      <td>1.102743</td>\n",
              "      <td>0.806057</td>\n",
              "    </tr>\n",
              "    <tr>\n",
              "      <th>min</th>\n",
              "      <td>1.000000</td>\n",
              "      <td>0.000000</td>\n",
              "      <td>1.000000</td>\n",
              "      <td>0.420000</td>\n",
              "      <td>0.000000</td>\n",
              "      <td>0.000000</td>\n",
              "    </tr>\n",
              "    <tr>\n",
              "      <th>25%</th>\n",
              "      <td>223.500000</td>\n",
              "      <td>0.000000</td>\n",
              "      <td>2.000000</td>\n",
              "      <td>20.125000</td>\n",
              "      <td>0.000000</td>\n",
              "      <td>0.000000</td>\n",
              "    </tr>\n",
              "    <tr>\n",
              "      <th>50%</th>\n",
              "      <td>446.000000</td>\n",
              "      <td>0.000000</td>\n",
              "      <td>3.000000</td>\n",
              "      <td>28.000000</td>\n",
              "      <td>0.000000</td>\n",
              "      <td>0.000000</td>\n",
              "    </tr>\n",
              "    <tr>\n",
              "      <th>75%</th>\n",
              "      <td>668.500000</td>\n",
              "      <td>1.000000</td>\n",
              "      <td>3.000000</td>\n",
              "      <td>38.000000</td>\n",
              "      <td>1.000000</td>\n",
              "      <td>0.000000</td>\n",
              "    </tr>\n",
              "    <tr>\n",
              "      <th>max</th>\n",
              "      <td>891.000000</td>\n",
              "      <td>1.000000</td>\n",
              "      <td>3.000000</td>\n",
              "      <td>80.000000</td>\n",
              "      <td>8.000000</td>\n",
              "      <td>6.000000</td>\n",
              "    </tr>\n",
              "  </tbody>\n",
              "</table>\n",
              "</div>"
            ],
            "text/plain": [
              "       PassengerId    Survived      Pclass         Age       SibSp       Parch\n",
              "count   891.000000  891.000000  891.000000  714.000000  891.000000  891.000000\n",
              "mean    446.000000    0.383838    2.308642   29.699118    0.523008    0.381594\n",
              "std     257.353842    0.486592    0.836071   14.526497    1.102743    0.806057\n",
              "min       1.000000    0.000000    1.000000    0.420000    0.000000    0.000000\n",
              "25%     223.500000    0.000000    2.000000   20.125000    0.000000    0.000000\n",
              "50%     446.000000    0.000000    3.000000   28.000000    0.000000    0.000000\n",
              "75%     668.500000    1.000000    3.000000   38.000000    1.000000    0.000000\n",
              "max     891.000000    1.000000    3.000000   80.000000    8.000000    6.000000"
            ]
          },
          "execution_count": 3,
          "metadata": {},
          "output_type": "execute_result"
        }
      ],
      "source": [
        "print(data.columns)\n",
        "data.describe()"
      ]
    },
    {
      "cell_type": "markdown",
      "metadata": {
        "id": "suySAZtagUvy"
      },
      "source": [
        "## Filtrar y transformar características y etiquetas"
      ]
    },
    {
      "cell_type": "markdown",
      "metadata": {
        "id": "AGaUUlzJTOph"
      },
      "source": [
        "#### Identificar y eliminar columnas irrelevantes\n",
        "¿Cuáles columnas son irrelevantes? Elimínelas."
      ]
    },
    {
      "cell_type": "code",
      "execution_count": null,
      "metadata": {
        "id": "U2B6kPBlTOT6",
        "outputId": "7d7c39e0-b7f5-457b-803c-7ea70416f65c"
      },
      "outputs": [
        {
          "name": "stdout",
          "output_type": "stream",
          "text": [
            "891\n",
            "681\n",
            "891\n",
            "3\n",
            "7\n",
            "7\n",
            "247\n",
            "147\n",
            "687\n"
          ]
        },
        {
          "data": {
            "text/html": [
              "<div>\n",
              "<style scoped>\n",
              "    .dataframe tbody tr th:only-of-type {\n",
              "        vertical-align: middle;\n",
              "    }\n",
              "\n",
              "    .dataframe tbody tr th {\n",
              "        vertical-align: top;\n",
              "    }\n",
              "\n",
              "    .dataframe thead th {\n",
              "        text-align: right;\n",
              "    }\n",
              "</style>\n",
              "<table border=\"1\" class=\"dataframe\">\n",
              "  <thead>\n",
              "    <tr style=\"text-align: right;\">\n",
              "      <th></th>\n",
              "      <th>Survived</th>\n",
              "      <th>Pclass</th>\n",
              "      <th>Sex</th>\n",
              "      <th>Age</th>\n",
              "      <th>SibSp</th>\n",
              "      <th>Parch</th>\n",
              "      <th>Fare</th>\n",
              "      <th>Embarked</th>\n",
              "    </tr>\n",
              "  </thead>\n",
              "  <tbody>\n",
              "    <tr>\n",
              "      <th>0</th>\n",
              "      <td>0</td>\n",
              "      <td>3</td>\n",
              "      <td>male</td>\n",
              "      <td>22.0</td>\n",
              "      <td>1</td>\n",
              "      <td>0</td>\n",
              "      <td>7.25</td>\n",
              "      <td>S</td>\n",
              "    </tr>\n",
              "    <tr>\n",
              "      <th>1</th>\n",
              "      <td>1</td>\n",
              "      <td>1</td>\n",
              "      <td>female</td>\n",
              "      <td>38.0</td>\n",
              "      <td>1</td>\n",
              "      <td>0</td>\n",
              "      <td>712.833</td>\n",
              "      <td>C</td>\n",
              "    </tr>\n",
              "    <tr>\n",
              "      <th>2</th>\n",
              "      <td>1</td>\n",
              "      <td>3</td>\n",
              "      <td>female</td>\n",
              "      <td>26.0</td>\n",
              "      <td>0</td>\n",
              "      <td>0</td>\n",
              "      <td>7.925</td>\n",
              "      <td>S</td>\n",
              "    </tr>\n",
              "    <tr>\n",
              "      <th>3</th>\n",
              "      <td>1</td>\n",
              "      <td>1</td>\n",
              "      <td>female</td>\n",
              "      <td>35.0</td>\n",
              "      <td>1</td>\n",
              "      <td>0</td>\n",
              "      <td>53.1</td>\n",
              "      <td>S</td>\n",
              "    </tr>\n",
              "    <tr>\n",
              "      <th>4</th>\n",
              "      <td>0</td>\n",
              "      <td>3</td>\n",
              "      <td>male</td>\n",
              "      <td>35.0</td>\n",
              "      <td>0</td>\n",
              "      <td>0</td>\n",
              "      <td>8.05</td>\n",
              "      <td>S</td>\n",
              "    </tr>\n",
              "    <tr>\n",
              "      <th>...</th>\n",
              "      <td>...</td>\n",
              "      <td>...</td>\n",
              "      <td>...</td>\n",
              "      <td>...</td>\n",
              "      <td>...</td>\n",
              "      <td>...</td>\n",
              "      <td>...</td>\n",
              "      <td>...</td>\n",
              "    </tr>\n",
              "    <tr>\n",
              "      <th>886</th>\n",
              "      <td>0</td>\n",
              "      <td>2</td>\n",
              "      <td>male</td>\n",
              "      <td>27.0</td>\n",
              "      <td>0</td>\n",
              "      <td>0</td>\n",
              "      <td>13</td>\n",
              "      <td>S</td>\n",
              "    </tr>\n",
              "    <tr>\n",
              "      <th>887</th>\n",
              "      <td>1</td>\n",
              "      <td>1</td>\n",
              "      <td>female</td>\n",
              "      <td>19.0</td>\n",
              "      <td>0</td>\n",
              "      <td>0</td>\n",
              "      <td>30</td>\n",
              "      <td>S</td>\n",
              "    </tr>\n",
              "    <tr>\n",
              "      <th>888</th>\n",
              "      <td>0</td>\n",
              "      <td>3</td>\n",
              "      <td>female</td>\n",
              "      <td>NaN</td>\n",
              "      <td>1</td>\n",
              "      <td>2</td>\n",
              "      <td>23.45</td>\n",
              "      <td>S</td>\n",
              "    </tr>\n",
              "    <tr>\n",
              "      <th>889</th>\n",
              "      <td>1</td>\n",
              "      <td>1</td>\n",
              "      <td>male</td>\n",
              "      <td>26.0</td>\n",
              "      <td>0</td>\n",
              "      <td>0</td>\n",
              "      <td>30</td>\n",
              "      <td>C</td>\n",
              "    </tr>\n",
              "    <tr>\n",
              "      <th>890</th>\n",
              "      <td>0</td>\n",
              "      <td>3</td>\n",
              "      <td>male</td>\n",
              "      <td>32.0</td>\n",
              "      <td>0</td>\n",
              "      <td>0</td>\n",
              "      <td>7.75</td>\n",
              "      <td>Q</td>\n",
              "    </tr>\n",
              "  </tbody>\n",
              "</table>\n",
              "<p>891 rows × 8 columns</p>\n",
              "</div>"
            ],
            "text/plain": [
              "     Survived  Pclass     Sex   Age  SibSp  Parch     Fare Embarked\n",
              "0           0       3    male  22.0      1      0     7.25        S\n",
              "1           1       1  female  38.0      1      0  712.833        C\n",
              "2           1       3  female  26.0      0      0    7.925        S\n",
              "3           1       1  female  35.0      1      0     53.1        S\n",
              "4           0       3    male  35.0      0      0     8.05        S\n",
              "..        ...     ...     ...   ...    ...    ...      ...      ...\n",
              "886         0       2    male  27.0      0      0       13        S\n",
              "887         1       1  female  19.0      0      0       30        S\n",
              "888         0       3  female   NaN      1      2    23.45        S\n",
              "889         1       1    male  26.0      0      0       30        C\n",
              "890         0       3    male  32.0      0      0     7.75        Q\n",
              "\n",
              "[891 rows x 8 columns]"
            ]
          },
          "execution_count": 4,
          "metadata": {},
          "output_type": "execute_result"
        }
      ],
      "source": [
        "print(data['PassengerId'].nunique()) #Irrelevante\n",
        "print(data['Ticket'].nunique()) #Irrelevante\n",
        "print(data['Name'].nunique()) #Irrelevante\n",
        "print(data['Pclass'].nunique())\n",
        "print(data['SibSp'].nunique())\n",
        "print(data['Parch'].nunique())\n",
        "print(data['Fare'].nunique())\n",
        "print(data['Cabin'].nunique()) #Irrelevante\n",
        "#Número de datos faltantes en el campo Cabin\n",
        "print(len(data[data['Cabin'].isna()]))\n",
        "\n",
        "#Eliminar columna <nombre_columna>\n",
        "del data['PassengerId']\n",
        "del data['Ticket']\n",
        "del data['Name']\n",
        "del data['Cabin']\n",
        "\n",
        "data"
      ]
    },
    {
      "cell_type": "markdown",
      "metadata": {
        "id": "KmYI6oFjXd-l"
      },
      "source": [
        "#### Procesar variables restantes\n"
      ]
    },
    {
      "cell_type": "code",
      "execution_count": null,
      "metadata": {
        "id": "qfo9iUlXgcoK",
        "outputId": "f450f1a2-b9ad-4d75-83cc-c56fa92729b6"
      },
      "outputs": [
        {
          "name": "stderr",
          "output_type": "stream",
          "text": [
            "C:\\Users\\ASUS\\AppData\\Local\\Temp\\ipykernel_4824\\1018471486.py:2: FutureWarning: A value is trying to be set on a copy of a DataFrame or Series through chained assignment using an inplace method.\n",
            "The behavior will change in pandas 3.0. This inplace method will never work because the intermediate object on which we are setting values always behaves as a copy.\n",
            "\n",
            "For example, when doing 'df[col].method(value, inplace=True)', try using 'df.method({col: value}, inplace=True)' or df[col] = df[col].method(value) instead, to perform the operation inplace on the original object.\n",
            "\n",
            "\n",
            "  data['Sex'].replace({'male':0, 'female':1}, inplace=True)\n",
            "C:\\Users\\ASUS\\AppData\\Local\\Temp\\ipykernel_4824\\1018471486.py:2: FutureWarning: Downcasting behavior in `replace` is deprecated and will be removed in a future version. To retain the old behavior, explicitly call `result.infer_objects(copy=False)`. To opt-in to the future behavior, set `pd.set_option('future.no_silent_downcasting', True)`\n",
            "  data['Sex'].replace({'male':0, 'female':1}, inplace=True)\n",
            "C:\\Users\\ASUS\\AppData\\Local\\Temp\\ipykernel_4824\\1018471486.py:14: FutureWarning: Downcasting behavior in `replace` is deprecated and will be removed in a future version. To retain the old behavior, explicitly call `result.infer_objects(copy=False)`. To opt-in to the future behavior, set `pd.set_option('future.no_silent_downcasting', True)`\n",
            "  data['E_C'] = (data['Embarked']=='C').replace({True:1, False:0})\n",
            "C:\\Users\\ASUS\\AppData\\Local\\Temp\\ipykernel_4824\\1018471486.py:15: FutureWarning: Downcasting behavior in `replace` is deprecated and will be removed in a future version. To retain the old behavior, explicitly call `result.infer_objects(copy=False)`. To opt-in to the future behavior, set `pd.set_option('future.no_silent_downcasting', True)`\n",
            "  data['E_Q'] = (data['Embarked']=='Q').replace({True:1, False:0})\n",
            "C:\\Users\\ASUS\\AppData\\Local\\Temp\\ipykernel_4824\\1018471486.py:16: FutureWarning: Downcasting behavior in `replace` is deprecated and will be removed in a future version. To retain the old behavior, explicitly call `result.infer_objects(copy=False)`. To opt-in to the future behavior, set `pd.set_option('future.no_silent_downcasting', True)`\n",
            "  data['E_S'] = (data['Embarked']=='S').replace({True:1, False:0})\n"
          ]
        },
        {
          "data": {
            "text/html": [
              "<div>\n",
              "<style scoped>\n",
              "    .dataframe tbody tr th:only-of-type {\n",
              "        vertical-align: middle;\n",
              "    }\n",
              "\n",
              "    .dataframe tbody tr th {\n",
              "        vertical-align: top;\n",
              "    }\n",
              "\n",
              "    .dataframe thead th {\n",
              "        text-align: right;\n",
              "    }\n",
              "</style>\n",
              "<table border=\"1\" class=\"dataframe\">\n",
              "  <thead>\n",
              "    <tr style=\"text-align: right;\">\n",
              "      <th></th>\n",
              "      <th>Survived</th>\n",
              "      <th>Pclass</th>\n",
              "      <th>Sex</th>\n",
              "      <th>Age</th>\n",
              "      <th>SibSp</th>\n",
              "      <th>Parch</th>\n",
              "      <th>Fare</th>\n",
              "      <th>E_C</th>\n",
              "      <th>E_Q</th>\n",
              "      <th>E_S</th>\n",
              "    </tr>\n",
              "  </thead>\n",
              "  <tbody>\n",
              "    <tr>\n",
              "      <th>count</th>\n",
              "      <td>891.000000</td>\n",
              "      <td>891.000000</td>\n",
              "      <td>891.000000</td>\n",
              "      <td>891.000000</td>\n",
              "      <td>891.000000</td>\n",
              "      <td>891.000000</td>\n",
              "      <td>891.000000</td>\n",
              "      <td>891.000000</td>\n",
              "      <td>891.000000</td>\n",
              "      <td>891.000000</td>\n",
              "    </tr>\n",
              "    <tr>\n",
              "      <th>mean</th>\n",
              "      <td>0.383838</td>\n",
              "      <td>0.769547</td>\n",
              "      <td>0.352413</td>\n",
              "      <td>0.371239</td>\n",
              "      <td>0.065376</td>\n",
              "      <td>0.063599</td>\n",
              "      <td>0.024918</td>\n",
              "      <td>0.188552</td>\n",
              "      <td>0.086420</td>\n",
              "      <td>0.722783</td>\n",
              "    </tr>\n",
              "    <tr>\n",
              "      <th>std</th>\n",
              "      <td>0.486592</td>\n",
              "      <td>0.278690</td>\n",
              "      <td>0.477990</td>\n",
              "      <td>0.162525</td>\n",
              "      <td>0.137843</td>\n",
              "      <td>0.134343</td>\n",
              "      <td>0.080246</td>\n",
              "      <td>0.391372</td>\n",
              "      <td>0.281141</td>\n",
              "      <td>0.447876</td>\n",
              "    </tr>\n",
              "    <tr>\n",
              "      <th>min</th>\n",
              "      <td>0.000000</td>\n",
              "      <td>0.333333</td>\n",
              "      <td>0.000000</td>\n",
              "      <td>0.005250</td>\n",
              "      <td>0.000000</td>\n",
              "      <td>0.000000</td>\n",
              "      <td>0.000000</td>\n",
              "      <td>0.000000</td>\n",
              "      <td>0.000000</td>\n",
              "      <td>0.000000</td>\n",
              "    </tr>\n",
              "    <tr>\n",
              "      <th>25%</th>\n",
              "      <td>0.000000</td>\n",
              "      <td>0.666667</td>\n",
              "      <td>0.000000</td>\n",
              "      <td>0.275000</td>\n",
              "      <td>0.000000</td>\n",
              "      <td>0.000000</td>\n",
              "      <td>0.000031</td>\n",
              "      <td>0.000000</td>\n",
              "      <td>0.000000</td>\n",
              "      <td>0.000000</td>\n",
              "    </tr>\n",
              "    <tr>\n",
              "      <th>50%</th>\n",
              "      <td>0.000000</td>\n",
              "      <td>1.000000</td>\n",
              "      <td>0.000000</td>\n",
              "      <td>0.371239</td>\n",
              "      <td>0.000000</td>\n",
              "      <td>0.000000</td>\n",
              "      <td>0.000512</td>\n",
              "      <td>0.000000</td>\n",
              "      <td>0.000000</td>\n",
              "      <td>1.000000</td>\n",
              "    </tr>\n",
              "    <tr>\n",
              "      <th>75%</th>\n",
              "      <td>1.000000</td>\n",
              "      <td>1.000000</td>\n",
              "      <td>1.000000</td>\n",
              "      <td>0.437500</td>\n",
              "      <td>0.125000</td>\n",
              "      <td>0.000000</td>\n",
              "      <td>0.015412</td>\n",
              "      <td>0.000000</td>\n",
              "      <td>0.000000</td>\n",
              "      <td>1.000000</td>\n",
              "    </tr>\n",
              "    <tr>\n",
              "      <th>max</th>\n",
              "      <td>1.000000</td>\n",
              "      <td>1.000000</td>\n",
              "      <td>1.000000</td>\n",
              "      <td>1.000000</td>\n",
              "      <td>1.000000</td>\n",
              "      <td>1.000000</td>\n",
              "      <td>1.000000</td>\n",
              "      <td>1.000000</td>\n",
              "      <td>1.000000</td>\n",
              "      <td>1.000000</td>\n",
              "    </tr>\n",
              "  </tbody>\n",
              "</table>\n",
              "</div>"
            ],
            "text/plain": [
              "         Survived      Pclass         Sex         Age       SibSp       Parch  \\\n",
              "count  891.000000  891.000000  891.000000  891.000000  891.000000  891.000000   \n",
              "mean     0.383838    0.769547    0.352413    0.371239    0.065376    0.063599   \n",
              "std      0.486592    0.278690    0.477990    0.162525    0.137843    0.134343   \n",
              "min      0.000000    0.333333    0.000000    0.005250    0.000000    0.000000   \n",
              "25%      0.000000    0.666667    0.000000    0.275000    0.000000    0.000000   \n",
              "50%      0.000000    1.000000    0.000000    0.371239    0.000000    0.000000   \n",
              "75%      1.000000    1.000000    1.000000    0.437500    0.125000    0.000000   \n",
              "max      1.000000    1.000000    1.000000    1.000000    1.000000    1.000000   \n",
              "\n",
              "             Fare         E_C         E_Q         E_S  \n",
              "count  891.000000  891.000000  891.000000  891.000000  \n",
              "mean     0.024918    0.188552    0.086420    0.722783  \n",
              "std      0.080246    0.391372    0.281141    0.447876  \n",
              "min      0.000000    0.000000    0.000000    0.000000  \n",
              "25%      0.000031    0.000000    0.000000    0.000000  \n",
              "50%      0.000512    0.000000    0.000000    1.000000  \n",
              "75%      0.015412    0.000000    0.000000    1.000000  \n",
              "max      1.000000    1.000000    1.000000    1.000000  "
            ]
          },
          "execution_count": 5,
          "metadata": {},
          "output_type": "execute_result"
        }
      ],
      "source": [
        "#Convertir sexo a numérico\n",
        "data['Sex'].replace({'male':0, 'female':1}, inplace=True)\n",
        "#Normalizar Pclass\n",
        "data['Pclass'] = data['Pclass'] / data['Pclass'].max()\n",
        "#Normalizar SibSp (Número de hermanos/esposo(a) abordo)\n",
        "data['SibSp'] = data['SibSp'] / data['SibSp'].max()\n",
        "#Normalizar Parch (Número de padres/hijos abordo)\n",
        "data['Parch'] = data['Parch'] / data['Parch'].max()\n",
        "#Convertir Fare (Costo del tiquete) a números\n",
        "data['Fare'] = data['Fare'].apply(lambda x:str(x).replace('.', '')).astype(float)\n",
        "#Normalizar Fare (Costo del tiquete)\n",
        "data['Fare'] = data['Fare'] / data['Fare'].max()\n",
        "#One-hot encoding de punto de embarcación (C = Cherbourg, Q = Queenstown, S = Southampton)\n",
        "data['E_C'] = (data['Embarked']=='C').replace({True:1, False:0})\n",
        "data['E_Q'] = (data['Embarked']=='Q').replace({True:1, False:0})\n",
        "data['E_S'] = (data['Embarked']=='S').replace({True:1, False:0})\n",
        "del data['Embarked']\n",
        "#Convertir edad a numérico\n",
        "data['Age'] = data['Age'].astype(float)\n",
        "#Imputar datos faltantes de edad con la media\n",
        "data['Age'] = data['Age'].fillna(data['Age'].mean())\n",
        "#Normalizar Fare (Costo del tiquete)\n",
        "data['Age'] = data['Age'] / data['Age'].max()\n",
        "data.describe()"
      ]
    },
    {
      "cell_type": "markdown",
      "metadata": {
        "id": "GvR8VL7cuX8D"
      },
      "source": [
        "## Separar características de etiquetas\n",
        "Divide en X y y las características y etiquetas. Calcule el número de ejemplos en cada clase.\n",
        "\n"
      ]
    },
    {
      "cell_type": "code",
      "execution_count": null,
      "metadata": {
        "id": "RL1lxRmVgsf3",
        "outputId": "0c9abe0f-a8ba-4d67-a7bd-b4157d154620"
      },
      "outputs": [
        {
          "name": "stdout",
          "output_type": "stream",
          "text": [
            "(891,)\n",
            "(891, 9)\n",
            "count    891.000000\n",
            "mean       0.383838\n",
            "std        0.486592\n",
            "min        0.000000\n",
            "25%        0.000000\n",
            "50%        0.000000\n",
            "75%        1.000000\n",
            "max        1.000000\n",
            "Name: Survived, dtype: float64\n",
            "Clase 0: (549,) 0.6161616161616161\n",
            "Clase 1: (342,) 0.3838383838383838\n"
          ]
        }
      ],
      "source": [
        "y = data['Survived']\n",
        "del data['Survived']\n",
        "X = data\n",
        "print(y.shape)\n",
        "print(X.shape)\n",
        "print(y.describe())\n",
        "print('Clase 0:', y[y==0].shape, len(y[y==0])/len(y))\n",
        "print('Clase 1:', y[y==1].shape, len(y[y==1])/len(y))"
      ]
    },
    {
      "cell_type": "markdown",
      "metadata": {
        "id": "9MwVMTn_xK-b"
      },
      "source": [
        "## Crear conjunto de entrenamiento y conjunto de prueba\n",
        "80% entrenamiento, 20% prueba\n"
      ]
    },
    {
      "cell_type": "code",
      "execution_count": null,
      "metadata": {
        "id": "RaWswPxFypw-",
        "outputId": "d635523a-9c32-4d95-f5e2-3e8e301fdb20"
      },
      "outputs": [
        {
          "name": "stdout",
          "output_type": "stream",
          "text": [
            "Entrenamiento:  (712,)\n",
            "Prueba:  (179,)\n"
          ]
        }
      ],
      "source": [
        "X_train, X_test, y_train, y_test = train_test_split(X, y, test_size=.20, random_state=0)\n",
        "print('Entrenamiento: ', y_train.shape)\n",
        "print('Prueba: ', y_test.shape)"
      ]
    },
    {
      "cell_type": "markdown",
      "metadata": {
        "id": "0VYYfGAdwgo1"
      },
      "source": [
        "## Línea base\n",
        "Para evaluar el desempeño del modelo de clasificación, se define un clasificador que etiqueta todos los ejemplos del conjunto de prueba como de la clase mayoritaria."
      ]
    },
    {
      "cell_type": "code",
      "execution_count": null,
      "metadata": {
        "id": "qtL8ewJww_6d",
        "outputId": "08d68bc9-d2cc-4f3a-e098-10a8d69128a1"
      },
      "outputs": [
        {
          "name": "stdout",
          "output_type": "stream",
          "text": [
            "0      0\n",
            "1      0\n",
            "2      0\n",
            "3      0\n",
            "4      0\n",
            "      ..\n",
            "174    0\n",
            "175    0\n",
            "176    0\n",
            "177    0\n",
            "178    0\n",
            "Length: 179, dtype: int64\n"
          ]
        }
      ],
      "source": [
        "y_baseline = pd.Series([0]*len(y_test))\n",
        "print(y_baseline)"
      ]
    },
    {
      "cell_type": "markdown",
      "metadata": {
        "id": "ipP9NErr0bvT"
      },
      "source": [
        "## Evaluar el desempeño de la línea base\n"
      ]
    },
    {
      "cell_type": "code",
      "execution_count": null,
      "metadata": {
        "id": "DUEiaPUb0b4m",
        "outputId": "edd96a67-c5f1-4e03-e320-3e9da0085182"
      },
      "outputs": [
        {
          "name": "stdout",
          "output_type": "stream",
          "text": [
            "[[110   0]\n",
            " [ 69   0]]\n",
            "              precision    recall  f1-score   support\n",
            "\n",
            "           0       0.61      1.00      0.76       110\n",
            "           1       0.00      0.00      0.00        69\n",
            "\n",
            "    accuracy                           0.61       179\n",
            "   macro avg       0.31      0.50      0.38       179\n",
            "weighted avg       0.38      0.61      0.47       179\n",
            "\n"
          ]
        },
        {
          "name": "stderr",
          "output_type": "stream",
          "text": [
            "c:\\Users\\ASUS\\Desktop\\Inteligencia Artificial\\env\\Lib\\site-packages\\sklearn\\metrics\\_classification.py:1509: UndefinedMetricWarning: Precision is ill-defined and being set to 0.0 in labels with no predicted samples. Use `zero_division` parameter to control this behavior.\n",
            "  _warn_prf(average, modifier, f\"{metric.capitalize()} is\", len(result))\n",
            "c:\\Users\\ASUS\\Desktop\\Inteligencia Artificial\\env\\Lib\\site-packages\\sklearn\\metrics\\_classification.py:1509: UndefinedMetricWarning: Precision is ill-defined and being set to 0.0 in labels with no predicted samples. Use `zero_division` parameter to control this behavior.\n",
            "  _warn_prf(average, modifier, f\"{metric.capitalize()} is\", len(result))\n",
            "c:\\Users\\ASUS\\Desktop\\Inteligencia Artificial\\env\\Lib\\site-packages\\sklearn\\metrics\\_classification.py:1509: UndefinedMetricWarning: Precision is ill-defined and being set to 0.0 in labels with no predicted samples. Use `zero_division` parameter to control this behavior.\n",
            "  _warn_prf(average, modifier, f\"{metric.capitalize()} is\", len(result))\n"
          ]
        }
      ],
      "source": [
        "print(confusion_matrix(y_test, y_baseline))\n",
        "print(classification_report(y_test, y_baseline))"
      ]
    },
    {
      "cell_type": "markdown",
      "metadata": {
        "id": "J1nnRozD51Dk"
      },
      "source": [
        "## Regresión Logística\n",
        "Entrenar un modelo de regresión logística y evaluar su desempeño."
      ]
    },
    {
      "cell_type": "code",
      "execution_count": null,
      "metadata": {
        "id": "OyjYZ9Md6Jdy",
        "outputId": "34b617de-7660-4e10-ecfb-149bd5b30061"
      },
      "outputs": [
        {
          "name": "stdout",
          "output_type": "stream",
          "text": [
            "w_0 1.6372395051564106\n"
          ]
        },
        {
          "data": {
            "text/html": [
              "<div>\n",
              "<style scoped>\n",
              "    .dataframe tbody tr th:only-of-type {\n",
              "        vertical-align: middle;\n",
              "    }\n",
              "\n",
              "    .dataframe tbody tr th {\n",
              "        vertical-align: top;\n",
              "    }\n",
              "\n",
              "    .dataframe thead th {\n",
              "        text-align: right;\n",
              "    }\n",
              "</style>\n",
              "<table border=\"1\" class=\"dataframe\">\n",
              "  <thead>\n",
              "    <tr style=\"text-align: right;\">\n",
              "      <th></th>\n",
              "      <th>w</th>\n",
              "      <th>feat_name</th>\n",
              "    </tr>\n",
              "  </thead>\n",
              "  <tbody>\n",
              "    <tr>\n",
              "      <th>0</th>\n",
              "      <td>-2.588974</td>\n",
              "      <td>Pclass</td>\n",
              "    </tr>\n",
              "    <tr>\n",
              "      <th>1</th>\n",
              "      <td>2.474846</td>\n",
              "      <td>Sex</td>\n",
              "    </tr>\n",
              "    <tr>\n",
              "      <th>2</th>\n",
              "      <td>-2.094570</td>\n",
              "      <td>Age</td>\n",
              "    </tr>\n",
              "    <tr>\n",
              "      <th>3</th>\n",
              "      <td>-1.500314</td>\n",
              "      <td>SibSp</td>\n",
              "    </tr>\n",
              "    <tr>\n",
              "      <th>4</th>\n",
              "      <td>-0.299620</td>\n",
              "      <td>Parch</td>\n",
              "    </tr>\n",
              "    <tr>\n",
              "      <th>5</th>\n",
              "      <td>0.867363</td>\n",
              "      <td>Fare</td>\n",
              "    </tr>\n",
              "    <tr>\n",
              "      <th>6</th>\n",
              "      <td>0.004408</td>\n",
              "      <td>E_C</td>\n",
              "    </tr>\n",
              "    <tr>\n",
              "      <th>7</th>\n",
              "      <td>0.070268</td>\n",
              "      <td>E_Q</td>\n",
              "    </tr>\n",
              "    <tr>\n",
              "      <th>8</th>\n",
              "      <td>-0.332903</td>\n",
              "      <td>E_S</td>\n",
              "    </tr>\n",
              "  </tbody>\n",
              "</table>\n",
              "</div>"
            ],
            "text/plain": [
              "          w feat_name\n",
              "0 -2.588974    Pclass\n",
              "1  2.474846       Sex\n",
              "2 -2.094570       Age\n",
              "3 -1.500314     SibSp\n",
              "4 -0.299620     Parch\n",
              "5  0.867363      Fare\n",
              "6  0.004408       E_C\n",
              "7  0.070268       E_Q\n",
              "8 -0.332903       E_S"
            ]
          },
          "execution_count": 10,
          "metadata": {},
          "output_type": "execute_result"
        }
      ],
      "source": [
        "model = LogisticRegression(n_jobs=-1)\n",
        "model.fit(X_train, y_train)\n",
        "w = np.hstack([np.array([model.intercept_[0]]), model.coef_[0]])\n",
        "print('w_0',model.intercept_[0])\n",
        "coefs = pd.DataFrame(w[1:], columns=['w'])\n",
        "coefs['feat_name'] = X.columns\n",
        "coefs"
      ]
    },
    {
      "cell_type": "markdown",
      "metadata": {
        "id": "LRc1C88x7Nf9"
      },
      "source": [
        "## Árbol de decisión\n",
        "Entrenar un árbol de decisión y evaluar su desempeño."
      ]
    },
    {
      "cell_type": "code",
      "execution_count": null,
      "metadata": {
        "id": "sr46F-6R7Nm_",
        "outputId": "f9e4b056-42a6-4b3c-8cda-105e87ff4903"
      },
      "outputs": [
        {
          "name": "stdout",
          "output_type": "stream",
          "text": [
            "Fitting 5 folds for each of 144 candidates, totalling 720 fits\n",
            "0.8118191667487442\n",
            "{'criterion': 'gini', 'max_depth': None, 'min_impurity_decrease': 0.001, 'min_samples_split': 10, 'splitter': 'best'}\n",
            "[[99 11]\n",
            " [21 48]]\n",
            "              precision    recall  f1-score   support\n",
            "\n",
            "           0       0.82      0.90      0.86       110\n",
            "           1       0.81      0.70      0.75        69\n",
            "\n",
            "    accuracy                           0.82       179\n",
            "   macro avg       0.82      0.80      0.81       179\n",
            "weighted avg       0.82      0.82      0.82       179\n",
            "\n"
          ]
        }
      ],
      "source": [
        "algo = DecisionTreeClassifier(random_state=0)\n",
        "\n",
        "params = {'criterion':['gini', 'entropy'],\n",
        "          'splitter':['best', 'random'],\n",
        "          'max_depth':[None, 5, 10],\n",
        "          'min_samples_split':[2, 10, 50],\n",
        "          'min_impurity_decrease':[0.0, 1e-4, 1e-3, 1e-2]}\n",
        "\n",
        "best_model = GridSearchCV(algo, params, verbose=3, n_jobs=-1, cv=5, return_train_score=True, scoring='accuracy')\n",
        "best_model.fit(X_train, y_train)\n",
        "\n",
        "tree = best_model.best_estimator_\n",
        "\n",
        "print(best_model.best_score_)\n",
        "print(best_model.best_params_)\n",
        "\n",
        "y_pred = tree.predict(X_test)\n",
        "print(confusion_matrix(y_test, y_pred))\n",
        "print(classification_report(y_test, y_pred))"
      ]
    },
    {
      "cell_type": "markdown",
      "metadata": {
        "id": "MVLb6Sth7T0s"
      },
      "source": [
        "## Random Forest\n",
        "Entrenar un modelo <i>random forest</i> y evaluar su desempeño."
      ]
    },
    {
      "cell_type": "code",
      "execution_count": null,
      "metadata": {
        "id": "tPwH1Cux7T88",
        "outputId": "5241b2e1-805c-49fd-b955-7896110045d2"
      },
      "outputs": [
        {
          "name": "stdout",
          "output_type": "stream",
          "text": [
            "Fitting 5 folds for each of 24 candidates, totalling 120 fits\n",
            "0.8258150300403821\n",
            "{'criterion': 'gini', 'max_depth': 10, 'min_impurity_decrease': 0.0, 'min_samples_split': 10}\n",
            "[[103   7]\n",
            " [ 21  48]]\n",
            "              precision    recall  f1-score   support\n",
            "\n",
            "           0       0.83      0.94      0.88       110\n",
            "           1       0.87      0.70      0.77        69\n",
            "\n",
            "    accuracy                           0.84       179\n",
            "   macro avg       0.85      0.82      0.83       179\n",
            "weighted avg       0.85      0.84      0.84       179\n",
            "\n"
          ]
        }
      ],
      "source": [
        "algo = RandomForestClassifier(n_estimators=500, max_features='sqrt', bootstrap=True, n_jobs=-1, random_state=10)\n",
        "params = {'criterion':['gini', 'entropy'],\n",
        "          'max_depth': [5, 10, None],\n",
        "          'min_samples_split':[10, 50],\n",
        "          'min_impurity_decrease':[0.0, 1e-2]}\n",
        "\n",
        "#best_model = RandomizedSearchCV(algo, params, n_iter=50, verbose=3, n_jobs=-1, cv=5, return_train_score=True, scoring='accuracy')\n",
        "best_model = GridSearchCV(algo, params, verbose=3, n_jobs=-1, cv=5, return_train_score=True, scoring='accuracy')\n",
        "best_model.fit(X_train, y_train)\n",
        "\n",
        "rf = best_model.best_estimator_\n",
        "\n",
        "print(best_model.best_score_)\n",
        "print(best_model.best_params_)\n",
        "\n",
        "y_pred = rf.predict(X_test)\n",
        "print(confusion_matrix(y_test, y_pred))\n",
        "print(classification_report(y_test, y_pred))"
      ]
    },
    {
      "cell_type": "markdown",
      "metadata": {
        "id": "hjKJzOWr7gyp"
      },
      "source": [
        "## Máquina de vectores de soporte\n",
        "Entrenar una máquina de vectores de soporte y evaluar su desempeño."
      ]
    },
    {
      "cell_type": "code",
      "execution_count": null,
      "metadata": {
        "id": "d-PGGf-t7g6U",
        "outputId": "fcf048bc-7ac0-449f-bb16-3ae6135bb46f"
      },
      "outputs": [
        {
          "name": "stdout",
          "output_type": "stream",
          "text": [
            "Fitting 5 folds for each of 7 candidates, totalling 35 fits\n",
            "0.8159657244164287\n",
            "{'C': 100.0}\n",
            "[[100  10]\n",
            " [ 24  45]]\n",
            "              precision    recall  f1-score   support\n",
            "\n",
            "           0       0.81      0.91      0.85       110\n",
            "           1       0.82      0.65      0.73        69\n",
            "\n",
            "    accuracy                           0.81       179\n",
            "   macro avg       0.81      0.78      0.79       179\n",
            "weighted avg       0.81      0.81      0.81       179\n",
            "\n"
          ]
        }
      ],
      "source": [
        "algo = SVC(kernel='rbf', gamma='scale', random_state=10)\n",
        "params = {'C': np.logspace(-3, 3, 7)}\n",
        "\n",
        "best_model = GridSearchCV(algo, params, verbose=3, n_jobs=-1, cv=5, return_train_score=True, scoring='accuracy')\n",
        "best_model.fit(X_train, y_train)\n",
        "\n",
        "svc = best_model.best_estimator_\n",
        "\n",
        "print(best_model.best_score_)\n",
        "print(best_model.best_params_)\n",
        "\n",
        "y_pred = svc.predict(X_test)\n",
        "print(confusion_matrix(y_test, y_pred))\n",
        "print(classification_report(y_test, y_pred))"
      ]
    },
    {
      "cell_type": "markdown",
      "metadata": {
        "id": "gGgIsAgq6ZU7"
      },
      "source": [
        "## Red neuronal\n",
        "Entrenar una red neuronal y evaluar su desempeño."
      ]
    },
    {
      "cell_type": "code",
      "execution_count": null,
      "metadata": {
        "id": "UXRb_okM6Z3S",
        "outputId": "8a7dd1bc-2c56-4df5-effb-2d49559ef25b"
      },
      "outputs": [
        {
          "name": "stdout",
          "output_type": "stream",
          "text": [
            "Fitting 5 folds for each of 126 candidates, totalling 630 fits\n",
            "0.7359795134443022\n",
            "{'activation': 'tanh', 'alpha': 0.1, 'hidden_layer_sizes': (9,)}\n",
            "[[98 12]\n",
            " [25 44]]\n",
            "              precision    recall  f1-score   support\n",
            "\n",
            "           0       0.80      0.89      0.84       110\n",
            "           1       0.79      0.64      0.70        69\n",
            "\n",
            "    accuracy                           0.79       179\n",
            "   macro avg       0.79      0.76      0.77       179\n",
            "weighted avg       0.79      0.79      0.79       179\n",
            "\n"
          ]
        }
      ],
      "source": [
        "layer_size = len(X.columns)\n",
        "\n",
        "algo = MLPClassifier(max_iter=500, learning_rate='adaptive', warm_start=True, early_stopping=True, random_state=0)\n",
        "\n",
        "params = {'hidden_layer_sizes':[(layer_size,), (layer_size,layer_size), (layer_size, layer_size, layer_size), (layer_size, layer_size, layer_size, layer_size), (layer_size, layer_size, layer_size, layer_size, layer_size), (layer_size, layer_size, layer_size, layer_size, layer_size, layer_size)],\n",
        "          'activation': ['tanh', 'relu', 'logistic'],\n",
        "          'alpha': np.logspace(-3, 3, 7)}\n",
        "\n",
        "best_model = GridSearchCV(algo, params, verbose=3, n_jobs=-1, cv=5, return_train_score=True, scoring='accuracy')\n",
        "best_model.fit(X_train, y_train)\n",
        "\n",
        "mlp = best_model.best_estimator_\n",
        "\n",
        "print(best_model.best_score_)\n",
        "print(best_model.best_params_)\n",
        "\n",
        "y_pred = mlp.predict(X_test)\n",
        "print(confusion_matrix(y_test, y_pred))\n",
        "print(classification_report(y_test, y_pred))"
      ]
    },
    {
      "cell_type": "markdown",
      "metadata": {
        "id": "02SYFI6J7rqt"
      },
      "source": [
        "## K vecinos más cercanos\n",
        "Resolver el problema de clasificación usando el algoritmo de k vecinos más cercanos."
      ]
    },
    {
      "cell_type": "code",
      "execution_count": null,
      "metadata": {
        "id": "k7GjHHLW7ryP",
        "outputId": "424fe195-00c8-44a7-c497-059ae097ff03"
      },
      "outputs": [
        {
          "name": "stdout",
          "output_type": "stream",
          "text": [
            "Fitting 5 folds for each of 18 candidates, totalling 90 fits\n",
            "0.8075839653304442\n",
            "{'n_neighbors': 5, 'p': 1, 'weights': 'uniform'}\n",
            "[[100  10]\n",
            " [ 23  46]]\n",
            "              precision    recall  f1-score   support\n",
            "\n",
            "           0       0.81      0.91      0.86       110\n",
            "           1       0.82      0.67      0.74        69\n",
            "\n",
            "    accuracy                           0.82       179\n",
            "   macro avg       0.82      0.79      0.80       179\n",
            "weighted avg       0.82      0.82      0.81       179\n",
            "\n"
          ]
        }
      ],
      "source": [
        "algo = KNeighborsClassifier()\n",
        "params = {'n_neighbors':[1, 5, 125],\n",
        "          'weights':['uniform', 'distance'],\n",
        "          'p':range(1, 4)}\n",
        "\n",
        "best_model = GridSearchCV(algo, params, verbose=3, n_jobs=-1, cv=5, return_train_score=True, scoring='accuracy')\n",
        "best_model.fit(X_train, y_train)\n",
        "\n",
        "knn = best_model.best_estimator_\n",
        "\n",
        "print(best_model.best_score_)\n",
        "print(best_model.best_params_)\n",
        "\n",
        "y_pred = knn.predict(X_test)\n",
        "print(confusion_matrix(y_test, y_pred))\n",
        "print(classification_report(y_test, y_pred))"
      ]
    },
    {
      "cell_type": "markdown",
      "source": [
        "#**Conclusión**\n",
        "Es posible evidenciar que el Random Forest es el modelo con la mejor exactitud (84%) seguido por el Tree Desicion que tiene una exactitud de (82%). Dando a entender que los árboles son los mejores clasificadores para este problema con respecto a los otros algoritmos de clasificación."
      ],
      "metadata": {
        "id": "QHwgYnLrdWNx"
      }
    }
  ],
  "metadata": {
    "colab": {
      "provenance": []
    },
    "kernelspec": {
      "display_name": "Python 3",
      "name": "python3"
    },
    "language_info": {
      "codemirror_mode": {
        "name": "ipython",
        "version": 3
      },
      "file_extension": ".py",
      "mimetype": "text/x-python",
      "name": "python",
      "nbconvert_exporter": "python",
      "pygments_lexer": "ipython3",
      "version": "3.12.1"
    }
  },
  "nbformat": 4,
  "nbformat_minor": 0
}